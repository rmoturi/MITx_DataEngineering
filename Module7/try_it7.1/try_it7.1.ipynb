{
 "cells": [
  {
   "cell_type": "markdown",
   "metadata": {},
   "source": [
    "# Try-It 7.1: Plotting Mean Variance in Python\n",
    "\n",
    "\n",
    "\n",
    "**IMPORTANT INSTRUCTIONS:** This activity is designed for you to experiment with `Python` code about sampling, variance, and mean. Feel free to change any numerical value throughout the code in the activity to visualize different outcomes and results."
   ]
  },
  {
   "cell_type": "markdown",
   "metadata": {},
   "source": [
    "# What is Sampling?\n",
    "   \n",
    "When you can't collect data from an entire population, *sampling* is performed to collect a representative *sample* of the whole population. \n",
    "\n",
    "There are two main types of *Sampling*: probability *sampling* and non-probability *sampling*.\n",
    "\n",
    "Probability *sampling* is defined as a sampling technique in which the researcher chooses samples from a larger population using random selection.\n",
    "\n",
    "Non-probability *sampling* is defined as a sampling technique in which the researcher selects *samples* based on the subjective judgment of the researcher rather than random selection. \n",
    "\n",
    "\n",
    "\n",
    "| Probability *Sampling* | Non-Probability *Sampling*| \n",
    "| --- | --- | \n",
    "| The *samples* are randomly selected.\t|*Samples* are selected on the basis of the <br> researcher’s subjective judgment.| \n",
    "|Everyone in the population has an equal <br> chance of getting selected.|\tNot everyone has an equal chance to <br>participate.|\n",
    "|Researchers use this technique when they <br> want to reduce *sampling* bias.|\t*Sampling* bias is not a concern for <br>the researcher.|\n",
    "|Used when the researcher wants to create <br> accurate samples.\t|This method does not help<br> in representing the population accurately.|\n",
    "|Finding the correct audience is difficult.\t|Finding an audience is very simple.|"
   ]
  },
  {
   "cell_type": "markdown",
   "metadata": {},
   "source": [
    "## Simple Random Sampling\n",
    "\n",
    "Simple random *sampling* is the simplest  probability *sampling* techique. As the name suggests, it is an entirely random method of selecting the *sample*.\n",
    "\n",
    "This *sampling* method is as easy as assigning numbers to the population we want to *sample* and then randomly choosing from those numbers through an automated process.\n",
    "\n",
    "### Understanding simple random sampling with an example\n",
    "\n",
    "The population of the United States is **330 million**. It is practically impossible to send a survey to every individual to gather information about the average middle-class income. Instead, we can identify a *sample* of **1 million** people using probability *sampling* to collect data. Sending a survey to 1 million people identified as our sample will help us question a set of citizens that are representative of the broader population and will limit the potential for bias in our sample.\n",
    "\n",
    "![](./images/sampling.png)\n",
    "\n",
    "For simplicity, assume that the income of ten middle class people (in thousands of dollars) is:"
   ]
  },
  {
   "cell_type": "code",
   "execution_count": 1,
   "metadata": {},
   "outputs": [],
   "source": [
    "import numpy as np\n",
    "sample_income = np.array([56, 67, 76, 83, 59, 77, 84, 52, 66, 83])"
   ]
  },
  {
   "cell_type": "markdown",
   "metadata": {},
   "source": [
    "Below, we have define a *function*, `mean` that compute the mean using the formula:\n",
    "    \n",
    "$$\\mu_x = \\frac{\\sum{x_n}}{N},$$\n",
    "\n",
    "where $x_n$ are the samples and $N$ is the number of *samples*."
   ]
  },
  {
   "cell_type": "code",
   "execution_count": 5,
   "metadata": {},
   "outputs": [],
   "source": [
    "def mean(samples):\n",
    "    m = sum(samples)/len(samples)\n",
    "    return m"
   ]
  },
  {
   "cell_type": "markdown",
   "metadata": {},
   "source": [
    "Then the mean of the *list* `income` has variance:"
   ]
  },
  {
   "cell_type": "code",
   "execution_count": 6,
   "metadata": {},
   "outputs": [
    {
     "data": {
      "text/plain": [
       "70.3"
      ]
     },
     "execution_count": 6,
     "metadata": {},
     "output_type": "execute_result"
    }
   ],
   "source": [
    "mean(sample_income)"
   ]
  },
  {
   "cell_type": "markdown",
   "metadata": {},
   "source": [
    "The mean can also be computed using the *function* `mean` from `NumPy`"
   ]
  },
  {
   "cell_type": "code",
   "execution_count": 7,
   "metadata": {},
   "outputs": [
    {
     "data": {
      "text/plain": [
       "70.3"
      ]
     },
     "execution_count": 7,
     "metadata": {},
     "output_type": "execute_result"
    }
   ],
   "source": [
    "m = sample_income.mean()\n",
    "m"
   ]
  },
  {
   "cell_type": "markdown",
   "metadata": {},
   "source": [
    "The formula to compute the variance is given by:\n",
    "    \n",
    "$$\\text{var} = \\text{mean}(\\text{abs}(x - x_n)^2))$$\n",
    "\n",
    "Below, we have defined a *function*, `variance`, to compute the variance of a *sample* using the formula above:"
   ]
  },
  {
   "cell_type": "code",
   "execution_count": 8,
   "metadata": {},
   "outputs": [],
   "source": [
    "def variance(samples):\n",
    "    mean = sum(samples)/len(samples)\n",
    "    tot = 0.0\n",
    "    for x in samples:\n",
    "        tot = tot + (x - mean)**2\n",
    "    return tot/len(samples)"
   ]
  },
  {
   "cell_type": "code",
   "execution_count": 10,
   "metadata": {},
   "outputs": [
    {
     "data": {
      "text/plain": [
       "128.41"
      ]
     },
     "execution_count": 10,
     "metadata": {},
     "output_type": "execute_result"
    }
   ],
   "source": [
    "variance(sample_income)"
   ]
  },
  {
   "cell_type": "markdown",
   "metadata": {},
   "source": [
    "The variance can be computed using the *function* `var` from `NumPy`"
   ]
  },
  {
   "cell_type": "code",
   "execution_count": 11,
   "metadata": {},
   "outputs": [
    {
     "data": {
      "text/plain": [
       "128.41"
      ]
     },
     "execution_count": 11,
     "metadata": {},
     "output_type": "execute_result"
    }
   ],
   "source": [
    "v = sample_income.var()\n",
    "v"
   ]
  },
  {
   "cell_type": "markdown",
   "metadata": {},
   "source": [
    "Consider now defining an *array*, `population_income`, which has more elements than `sample_income`.\n",
    "\n",
    "What are the mean and the variance of this new *array*?"
   ]
  },
  {
   "cell_type": "code",
   "execution_count": 12,
   "metadata": {},
   "outputs": [],
   "source": [
    "# Use this code cell to define your population sample and to compute its mean and variance.\n",
    "\n"
   ]
  },
  {
   "cell_type": "markdown",
   "metadata": {},
   "source": [
    "## Plotting the Mean and the Variance\n",
    "\n",
    "\n",
    "Suppose now that we are interested in plotting the mean and the variance of a population and a *sample* of it.\n",
    "\n",
    "Below, we import the necessary libraries and generate a population with 500 points"
   ]
  },
  {
   "cell_type": "code",
   "execution_count": 3,
   "metadata": {},
   "outputs": [],
   "source": [
    "import matplotlib.pyplot as plt\n",
    "import scipy.stats as sp\n",
    "\n",
    "Npoints = 500"
   ]
  },
  {
   "cell_type": "markdown",
   "metadata": {},
   "source": [
    "We are going to *sample* the population multiple times. This is done to acheve more accurate results.\n",
    "\n",
    "First, we will define empty lists where the means and the variances of the populations and the *samples* will be stored."
   ]
  },
  {
   "cell_type": "code",
   "execution_count": 4,
   "metadata": {},
   "outputs": [],
   "source": [
    "diff_mean = []\n",
    "diff_var = []\n",
    "best_mean = []\n",
    "best_var = []"
   ]
  },
  {
   "cell_type": "markdown",
   "metadata": {},
   "source": [
    "Next, we generate 500 points between 50 and 100 to represent the income of a randome middle-class population.\n",
    "\n",
    "We then compute the mean and the variance."
   ]
  },
  {
   "cell_type": "code",
   "execution_count": 5,
   "metadata": {},
   "outputs": [],
   "source": [
    "population  = np.random.uniform(50,100,Npoints)\n",
    "\n",
    "m = population.mean()\n",
    "v = np.var(population)"
   ]
  },
  {
   "cell_type": "markdown",
   "metadata": {},
   "source": [
    "We choose to *sample* the population 55 times."
   ]
  },
  {
   "cell_type": "code",
   "execution_count": 16,
   "metadata": {},
   "outputs": [],
   "source": [
    "n_sampling = 55"
   ]
  },
  {
   "cell_type": "markdown",
   "metadata": {},
   "source": [
    "Finally, we use a *for loop* to compute the mean and the variance of `sample_size`."
   ]
  },
  {
   "cell_type": "code",
   "execution_count": 17,
   "metadata": {},
   "outputs": [
    {
     "data": {
      "text/plain": [
       "55"
      ]
     },
     "execution_count": 17,
     "metadata": {},
     "output_type": "execute_result"
    }
   ],
   "source": [
    "for n in range(n_sampling):\n",
    "    sample = np.random.choice(population,50)\n",
    "    sample_mean = sample.mean()\n",
    "    sample_var = np.var(sample, ddof = 0)\n",
    "    \n",
    "    diff_mean.append(m - sample_mean)\n",
    "    diff_var.append(v - sample_var)\n",
    "    best_mean.append(np.sum(diff_mean)/(len(diff_mean)))\n",
    "    best_var.append(np.sum(diff_var)/(len(diff_var)))\n",
    "    \n",
    "len(best_mean)"
   ]
  },
  {
   "cell_type": "markdown",
   "metadata": {},
   "source": [
    "### Plotting\n",
    "\n",
    "Now we can plot our results:"
   ]
  },
  {
   "cell_type": "code",
   "execution_count": 19,
   "metadata": {},
   "outputs": [
    {
     "data": {
      "text/plain": [
       "<matplotlib.legend.Legend at 0x1473d0828>"
      ]
     },
     "execution_count": 19,
     "metadata": {},
     "output_type": "execute_result"
    },
    {
     "data": {
      "image/png": "[encoded data removed]",
      "text/plain": [
       "<Figure size 432x288 with 1 Axes>"
      ]
     },
     "metadata": {
      "needs_background": "light"
     },
     "output_type": "display_data"
    }
   ],
   "source": [
    "plt.scatter(range(n_sampling), best_mean, color = 'r', label  = 'Mean Error')\n",
    "plt.scatter(range(n_sampling), best_var, color = 'b', label  = 'Mean Variance')\n",
    "plt.ylabel('Error')\n",
    "plt.xlabel('Sampling Iteration')\n",
    "plt.legend(loc = 'upper right')"
   ]
  },
  {
   "cell_type": "markdown",
   "metadata": {},
   "source": [
    "Feel free to modify all the variables above to see how the results change."
   ]
  },
  {
   "cell_type": "code",
   "execution_count": null,
   "metadata": {},
   "outputs": [],
   "source": []
  }
 ],
 "metadata": {
  "kernelspec": {
   "display_name": "Python 3",
   "language": "python",
   "name": "python3"
  },
  "language_info": {
   "codemirror_mode": {
    "name": "ipython",
    "version": 3
   },
   "file_extension": ".py",
   "mimetype": "text/x-python",
   "name": "python",
   "nbconvert_exporter": "python",
   "pygments_lexer": "ipython3",
   "version": "3.8.8"
  }
 },
 "nbformat": 4,
 "nbformat_minor": 4
}
